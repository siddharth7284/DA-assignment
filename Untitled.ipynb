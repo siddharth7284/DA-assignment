{
 "cells": [
  {
   "cell_type": "markdown",
   "metadata": {},
   "source": [
    "# DA assignemnt , analysis on covid data.."
   ]
  },
  {
   "cell_type": "markdown",
   "metadata": {},
   "source": [
    "### performing discriptive statistics "
   ]
  },
  {
   "cell_type": "code",
   "execution_count": 90,
   "metadata": {
    "scrolled": true
   },
   "outputs": [
    {
     "data": {
      "text/html": [
       "<div>\n",
       "<style scoped>\n",
       "    .dataframe tbody tr th:only-of-type {\n",
       "        vertical-align: middle;\n",
       "    }\n",
       "\n",
       "    .dataframe tbody tr th {\n",
       "        vertical-align: top;\n",
       "    }\n",
       "\n",
       "    .dataframe thead th {\n",
       "        text-align: right;\n",
       "    }\n",
       "</style>\n",
       "<table border=\"1\" class=\"dataframe\">\n",
       "  <thead>\n",
       "    <tr style=\"text-align: right;\">\n",
       "      <th></th>\n",
       "      <th>s.no</th>\n",
       "      <th>State</th>\n",
       "      <th>Total cases</th>\n",
       "      <th>Cured/discharged</th>\n",
       "      <th>Death</th>\n",
       "    </tr>\n",
       "  </thead>\n",
       "  <tbody>\n",
       "    <tr>\n",
       "      <th>0</th>\n",
       "      <td>1</td>\n",
       "      <td>Andaman and Nicobar Islands</td>\n",
       "      <td>207</td>\n",
       "      <td>152</td>\n",
       "      <td>0</td>\n",
       "    </tr>\n",
       "    <tr>\n",
       "      <th>1</th>\n",
       "      <td>2</td>\n",
       "      <td>Andhra Pradesh</td>\n",
       "      <td>53724</td>\n",
       "      <td>24228</td>\n",
       "      <td>696</td>\n",
       "    </tr>\n",
       "    <tr>\n",
       "      <th>2</th>\n",
       "      <td>3</td>\n",
       "      <td>Arunachal Pradesh</td>\n",
       "      <td>790</td>\n",
       "      <td>285</td>\n",
       "      <td>3</td>\n",
       "    </tr>\n",
       "    <tr>\n",
       "      <th>3</th>\n",
       "      <td>4</td>\n",
       "      <td>Assam</td>\n",
       "      <td>25382</td>\n",
       "      <td>17095</td>\n",
       "      <td>58</td>\n",
       "    </tr>\n",
       "    <tr>\n",
       "      <th>4</th>\n",
       "      <td>5</td>\n",
       "      <td>Bihar</td>\n",
       "      <td>27646</td>\n",
       "      <td>17433</td>\n",
       "      <td>217</td>\n",
       "    </tr>\n",
       "    <tr>\n",
       "      <th>5</th>\n",
       "      <td>6</td>\n",
       "      <td>Chandigarh</td>\n",
       "      <td>737</td>\n",
       "      <td>518</td>\n",
       "      <td>12</td>\n",
       "    </tr>\n",
       "    <tr>\n",
       "      <th>6</th>\n",
       "      <td>7</td>\n",
       "      <td>Chhattisgarh</td>\n",
       "      <td>5561</td>\n",
       "      <td>3944</td>\n",
       "      <td>25</td>\n",
       "    </tr>\n",
       "    <tr>\n",
       "      <th>7</th>\n",
       "      <td>8</td>\n",
       "      <td>Dadra and Nagar Haveli and Daman and Diu</td>\n",
       "      <td>684</td>\n",
       "      <td>448</td>\n",
       "      <td>2</td>\n",
       "    </tr>\n",
       "    <tr>\n",
       "      <th>8</th>\n",
       "      <td>9</td>\n",
       "      <td>Delhi</td>\n",
       "      <td>123747</td>\n",
       "      <td>104918</td>\n",
       "      <td>3663</td>\n",
       "    </tr>\n",
       "    <tr>\n",
       "      <th>9</th>\n",
       "      <td>10</td>\n",
       "      <td>Goa</td>\n",
       "      <td>3853</td>\n",
       "      <td>2361</td>\n",
       "      <td>23</td>\n",
       "    </tr>\n",
       "  </tbody>\n",
       "</table>\n",
       "</div>"
      ],
      "text/plain": [
       "   s.no                                     State  Total cases  \\\n",
       "0     1               Andaman and Nicobar Islands          207   \n",
       "1     2                            Andhra Pradesh        53724   \n",
       "2     3                         Arunachal Pradesh          790   \n",
       "3     4                                     Assam        25382   \n",
       "4     5                                     Bihar        27646   \n",
       "5     6                                Chandigarh          737   \n",
       "6     7                              Chhattisgarh         5561   \n",
       "7     8  Dadra and Nagar Haveli and Daman and Diu          684   \n",
       "8     9                                     Delhi       123747   \n",
       "9    10                                       Goa         3853   \n",
       "\n",
       "   Cured/discharged  Death   \n",
       "0               152       0  \n",
       "1             24228     696  \n",
       "2               285       3  \n",
       "3             17095      58  \n",
       "4             17433     217  \n",
       "5               518      12  \n",
       "6              3944      25  \n",
       "7               448       2  \n",
       "8            104918    3663  \n",
       "9              2361      23  "
      ]
     },
     "execution_count": 90,
     "metadata": {},
     "output_type": "execute_result"
    }
   ],
   "source": [
    "import pandas as pd \n",
    "import numpy as np \n",
    "\n",
    "df = pd.read_csv(\"data.csv\")\n",
    "df = df.dropna(axis='columns')\n",
    "df.head(10)"
   ]
  },
  {
   "cell_type": "code",
   "execution_count": 62,
   "metadata": {},
   "outputs": [
    {
     "name": "stdout",
     "output_type": "stream",
     "text": [
      "mean of Total cases is: 33005.45714285714\n",
      "median of total cases is : 10510.0\n"
     ]
    }
   ],
   "source": [
    "#calculating mean \n",
    "avg = df['Total cases'].mean()\n",
    "print(\"mean of Total cases is:\",avg)\n",
    "#claculating median \n",
    "median = df['Total cases'].median()\n",
    "print(\"median of total cases is :\",median)"
   ]
  },
  {
   "cell_type": "code",
   "execution_count": 19,
   "metadata": {},
   "outputs": [
    {
     "name": "stdout",
     "output_type": "stream",
     "text": [
      "standard deviation of total cases: 62023.854905304666\n"
     ]
    }
   ],
   "source": [
    "#standard deviation\n",
    "standard_dev = df['Total cases'].std()\n",
    "print(\"standard deviation of total cases:\",standard_dev)"
   ]
  },
  {
   "cell_type": "code",
   "execution_count": 21,
   "metadata": {},
   "outputs": [
    {
     "data": {
      "image/png": "[encoded data removed]",
      "text/plain": [
       "<Figure size 720x576 with 1 Axes>"
      ]
     },
     "metadata": {},
     "output_type": "display_data"
    }
   ],
   "source": [
    "import matplotlib.pyplot as plt\n",
    "import seaborn as sns\n",
    "\n",
    "%matplotlib inline\n",
    "sns.set(style=\"whitegrid\")\n",
    "plt.figure(figsize=(10,8))\n",
    "ax = sns.boxplot(x='Total cases', data=df , orient='v')"
   ]
  },
  {
   "cell_type": "markdown",
   "metadata": {},
   "source": [
    "The data is to large to plot as there are to many states to be plotted ,so i plotted the top 5 infected states. "
   ]
  },
  {
   "cell_type": "code",
   "execution_count": 82,
   "metadata": {
    "scrolled": true
   },
   "outputs": [],
   "source": [
    "#TEST 101\n",
    "#Alternate method\n",
    "#data1 = large5['State']\n",
    "#count = large5['Total cases']\n",
    "#colors = [\"#1f77b4\", \"#ff7f0e\", \"#2ca02c\", \"#d62728\", \"#8c564b\"]\n",
    "#plt.pie(count , labels=data1 , colors=colors,autopct='%1.1f%%')\n",
    "#plt.show()"
   ]
  },
  {
   "cell_type": "code",
   "execution_count": 85,
   "metadata": {},
   "outputs": [
    {
     "data": {
      "text/html": [
       "<div>\n",
       "<style scoped>\n",
       "    .dataframe tbody tr th:only-of-type {\n",
       "        vertical-align: middle;\n",
       "    }\n",
       "\n",
       "    .dataframe tbody tr th {\n",
       "        vertical-align: top;\n",
       "    }\n",
       "\n",
       "    .dataframe thead th {\n",
       "        text-align: right;\n",
       "    }\n",
       "</style>\n",
       "<table border=\"1\" class=\"dataframe\">\n",
       "  <thead>\n",
       "    <tr style=\"text-align: right;\">\n",
       "      <th></th>\n",
       "      <th>s.no</th>\n",
       "      <th>State</th>\n",
       "      <th>Total cases</th>\n",
       "      <th>Cured/discharged</th>\n",
       "      <th>Death</th>\n",
       "    </tr>\n",
       "  </thead>\n",
       "  <tbody>\n",
       "    <tr>\n",
       "      <th>19</th>\n",
       "      <td>20</td>\n",
       "      <td>Maharashtra</td>\n",
       "      <td>318695</td>\n",
       "      <td>175029</td>\n",
       "      <td>12030</td>\n",
       "    </tr>\n",
       "    <tr>\n",
       "      <th>29</th>\n",
       "      <td>30</td>\n",
       "      <td>Tamil Nadu</td>\n",
       "      <td>175678</td>\n",
       "      <td>121776</td>\n",
       "      <td>2551</td>\n",
       "    </tr>\n",
       "    <tr>\n",
       "      <th>8</th>\n",
       "      <td>9</td>\n",
       "      <td>Delhi</td>\n",
       "      <td>123747</td>\n",
       "      <td>104918</td>\n",
       "      <td>3663</td>\n",
       "    </tr>\n",
       "    <tr>\n",
       "      <th>15</th>\n",
       "      <td>16</td>\n",
       "      <td>Karnataka</td>\n",
       "      <td>67420</td>\n",
       "      <td>23795</td>\n",
       "      <td>1403</td>\n",
       "    </tr>\n",
       "    <tr>\n",
       "      <th>1</th>\n",
       "      <td>2</td>\n",
       "      <td>Andhra Pradesh</td>\n",
       "      <td>53724</td>\n",
       "      <td>24228</td>\n",
       "      <td>696</td>\n",
       "    </tr>\n",
       "  </tbody>\n",
       "</table>\n",
       "</div>"
      ],
      "text/plain": [
       "    s.no           State  Total cases  Cured/discharged  Death \n",
       "19    20     Maharashtra       318695            175029   12030\n",
       "29    30      Tamil Nadu       175678            121776    2551\n",
       "8      9           Delhi       123747            104918    3663\n",
       "15    16       Karnataka        67420             23795    1403\n",
       "1      2  Andhra Pradesh        53724             24228     696"
      ]
     },
     "execution_count": 85,
     "metadata": {},
     "output_type": "execute_result"
    }
   ],
   "source": [
    "large5=df.nlargest(5, ['Total cases'])\n",
    "large5"
   ]
  },
  {
   "cell_type": "code",
   "execution_count": 103,
   "metadata": {},
   "outputs": [
    {
     "data": {
      "image/png": "[encoded data removed]",
      "text/plain": [
       "<Figure size 432x288 with 1 Axes>"
      ]
     },
     "metadata": {},
     "output_type": "display_data"
    }
   ],
   "source": [
    "large5.set_index('State')[['Total cases','Cured/discharged']].plot.bar()\n",
    "plt.show()"
   ]
  },
  {
   "cell_type": "code",
   "execution_count": 43,
   "metadata": {},
   "outputs": [],
   "source": [
    "#sns.set(style='darkgrid')\n",
    "#plt.figure(figsize=(14,8))\n",
    "#ax = sns.countplot(x='State', data=large5.head())"
   ]
  },
  {
   "cell_type": "markdown",
   "metadata": {},
   "source": [
    "### Sampling distribution "
   ]
  },
  {
   "cell_type": "code",
   "execution_count": 51,
   "metadata": {},
   "outputs": [
    {
     "data": {
      "text/html": [
       "<div>\n",
       "<style scoped>\n",
       "    .dataframe tbody tr th:only-of-type {\n",
       "        vertical-align: middle;\n",
       "    }\n",
       "\n",
       "    .dataframe tbody tr th {\n",
       "        vertical-align: top;\n",
       "    }\n",
       "\n",
       "    .dataframe thead th {\n",
       "        text-align: right;\n",
       "    }\n",
       "</style>\n",
       "<table border=\"1\" class=\"dataframe\">\n",
       "  <thead>\n",
       "    <tr style=\"text-align: right;\">\n",
       "      <th></th>\n",
       "      <th>s.no</th>\n",
       "      <th>State</th>\n",
       "      <th>Total cases</th>\n",
       "      <th>Cured/discharged</th>\n",
       "      <th>Death</th>\n",
       "    </tr>\n",
       "  </thead>\n",
       "  <tbody>\n",
       "    <tr>\n",
       "      <th>0</th>\n",
       "      <td>1</td>\n",
       "      <td>Andaman and Nicobar Islands</td>\n",
       "      <td>207</td>\n",
       "      <td>152</td>\n",
       "      <td>0</td>\n",
       "    </tr>\n",
       "    <tr>\n",
       "      <th>1</th>\n",
       "      <td>2</td>\n",
       "      <td>Andhra Pradesh</td>\n",
       "      <td>53724</td>\n",
       "      <td>24228</td>\n",
       "      <td>696</td>\n",
       "    </tr>\n",
       "    <tr>\n",
       "      <th>2</th>\n",
       "      <td>3</td>\n",
       "      <td>Arunachal Pradesh</td>\n",
       "      <td>790</td>\n",
       "      <td>285</td>\n",
       "      <td>3</td>\n",
       "    </tr>\n",
       "    <tr>\n",
       "      <th>3</th>\n",
       "      <td>4</td>\n",
       "      <td>Assam</td>\n",
       "      <td>25382</td>\n",
       "      <td>17095</td>\n",
       "      <td>58</td>\n",
       "    </tr>\n",
       "    <tr>\n",
       "      <th>4</th>\n",
       "      <td>5</td>\n",
       "      <td>Bihar</td>\n",
       "      <td>27646</td>\n",
       "      <td>17433</td>\n",
       "      <td>217</td>\n",
       "    </tr>\n",
       "    <tr>\n",
       "      <th>5</th>\n",
       "      <td>6</td>\n",
       "      <td>Chandigarh</td>\n",
       "      <td>737</td>\n",
       "      <td>518</td>\n",
       "      <td>12</td>\n",
       "    </tr>\n",
       "    <tr>\n",
       "      <th>6</th>\n",
       "      <td>7</td>\n",
       "      <td>Chhattisgarh</td>\n",
       "      <td>5561</td>\n",
       "      <td>3944</td>\n",
       "      <td>25</td>\n",
       "    </tr>\n",
       "    <tr>\n",
       "      <th>7</th>\n",
       "      <td>8</td>\n",
       "      <td>Dadra and Nagar Haveli and Daman and Diu</td>\n",
       "      <td>684</td>\n",
       "      <td>448</td>\n",
       "      <td>2</td>\n",
       "    </tr>\n",
       "    <tr>\n",
       "      <th>8</th>\n",
       "      <td>9</td>\n",
       "      <td>Delhi</td>\n",
       "      <td>123747</td>\n",
       "      <td>104918</td>\n",
       "      <td>3663</td>\n",
       "    </tr>\n",
       "    <tr>\n",
       "      <th>9</th>\n",
       "      <td>10</td>\n",
       "      <td>Goa</td>\n",
       "      <td>3853</td>\n",
       "      <td>2361</td>\n",
       "      <td>23</td>\n",
       "    </tr>\n",
       "    <tr>\n",
       "      <th>10</th>\n",
       "      <td>11</td>\n",
       "      <td>Gujarat</td>\n",
       "      <td>49353</td>\n",
       "      <td>35678</td>\n",
       "      <td>2162</td>\n",
       "    </tr>\n",
       "    <tr>\n",
       "      <th>11</th>\n",
       "      <td>12</td>\n",
       "      <td>Haryana</td>\n",
       "      <td>26858</td>\n",
       "      <td>20226</td>\n",
       "      <td>355</td>\n",
       "    </tr>\n",
       "    <tr>\n",
       "      <th>12</th>\n",
       "      <td>13</td>\n",
       "      <td>Himachal Pradesh</td>\n",
       "      <td>1631</td>\n",
       "      <td>1067</td>\n",
       "      <td>11</td>\n",
       "    </tr>\n",
       "    <tr>\n",
       "      <th>13</th>\n",
       "      <td>14</td>\n",
       "      <td>Jammu and Kashmir</td>\n",
       "      <td>14650</td>\n",
       "      <td>8274</td>\n",
       "      <td>254</td>\n",
       "    </tr>\n",
       "    <tr>\n",
       "      <th>14</th>\n",
       "      <td>15</td>\n",
       "      <td>Jharkhand</td>\n",
       "      <td>5756</td>\n",
       "      <td>2810</td>\n",
       "      <td>53</td>\n",
       "    </tr>\n",
       "    <tr>\n",
       "      <th>15</th>\n",
       "      <td>16</td>\n",
       "      <td>Karnataka</td>\n",
       "      <td>67420</td>\n",
       "      <td>23795</td>\n",
       "      <td>1403</td>\n",
       "    </tr>\n",
       "    <tr>\n",
       "      <th>16</th>\n",
       "      <td>17</td>\n",
       "      <td>Kerala</td>\n",
       "      <td>13274</td>\n",
       "      <td>5616</td>\n",
       "      <td>43</td>\n",
       "    </tr>\n",
       "    <tr>\n",
       "      <th>17</th>\n",
       "      <td>18</td>\n",
       "      <td>Ladakh</td>\n",
       "      <td>1195</td>\n",
       "      <td>1007</td>\n",
       "      <td>2</td>\n",
       "    </tr>\n",
       "    <tr>\n",
       "      <th>18</th>\n",
       "      <td>19</td>\n",
       "      <td>Madhya Pradesh</td>\n",
       "      <td>23310</td>\n",
       "      <td>15684</td>\n",
       "      <td>738</td>\n",
       "    </tr>\n",
       "    <tr>\n",
       "      <th>19</th>\n",
       "      <td>20</td>\n",
       "      <td>Maharashtra</td>\n",
       "      <td>318695</td>\n",
       "      <td>175029</td>\n",
       "      <td>12030</td>\n",
       "    </tr>\n",
       "    <tr>\n",
       "      <th>20</th>\n",
       "      <td>21</td>\n",
       "      <td>Manipur</td>\n",
       "      <td>1925</td>\n",
       "      <td>1307</td>\n",
       "      <td>0</td>\n",
       "    </tr>\n",
       "    <tr>\n",
       "      <th>21</th>\n",
       "      <td>22</td>\n",
       "      <td>Meghalaya</td>\n",
       "      <td>466</td>\n",
       "      <td>66</td>\n",
       "      <td>4</td>\n",
       "    </tr>\n",
       "    <tr>\n",
       "      <th>22</th>\n",
       "      <td>23</td>\n",
       "      <td>Mizoram</td>\n",
       "      <td>297</td>\n",
       "      <td>168</td>\n",
       "      <td>0</td>\n",
       "    </tr>\n",
       "    <tr>\n",
       "      <th>23</th>\n",
       "      <td>24</td>\n",
       "      <td>Nagaland</td>\n",
       "      <td>1021</td>\n",
       "      <td>484</td>\n",
       "      <td>0</td>\n",
       "    </tr>\n",
       "    <tr>\n",
       "      <th>24</th>\n",
       "      <td>25</td>\n",
       "      <td>Odisha</td>\n",
       "      <td>18110</td>\n",
       "      <td>12910</td>\n",
       "      <td>97</td>\n",
       "    </tr>\n",
       "    <tr>\n",
       "      <th>25</th>\n",
       "      <td>26</td>\n",
       "      <td>Puducherry</td>\n",
       "      <td>2092</td>\n",
       "      <td>1265</td>\n",
       "      <td>29</td>\n",
       "    </tr>\n",
       "    <tr>\n",
       "      <th>26</th>\n",
       "      <td>27</td>\n",
       "      <td>Punjab</td>\n",
       "      <td>10510</td>\n",
       "      <td>7118</td>\n",
       "      <td>262</td>\n",
       "    </tr>\n",
       "    <tr>\n",
       "      <th>27</th>\n",
       "      <td>28</td>\n",
       "      <td>Rajasthan</td>\n",
       "      <td>30390</td>\n",
       "      <td>22195</td>\n",
       "      <td>568</td>\n",
       "    </tr>\n",
       "    <tr>\n",
       "      <th>28</th>\n",
       "      <td>29</td>\n",
       "      <td>Sikkim</td>\n",
       "      <td>305</td>\n",
       "      <td>92</td>\n",
       "      <td>0</td>\n",
       "    </tr>\n",
       "    <tr>\n",
       "      <th>29</th>\n",
       "      <td>30</td>\n",
       "      <td>Tamil Nadu</td>\n",
       "      <td>175678</td>\n",
       "      <td>121776</td>\n",
       "      <td>2551</td>\n",
       "    </tr>\n",
       "    <tr>\n",
       "      <th>30</th>\n",
       "      <td>31</td>\n",
       "      <td>Telangana</td>\n",
       "      <td>46274</td>\n",
       "      <td>34323</td>\n",
       "      <td>422</td>\n",
       "    </tr>\n",
       "    <tr>\n",
       "      <th>31</th>\n",
       "      <td>32</td>\n",
       "      <td>Tripura</td>\n",
       "      <td>3079</td>\n",
       "      <td>1845</td>\n",
       "      <td>7</td>\n",
       "    </tr>\n",
       "    <tr>\n",
       "      <th>32</th>\n",
       "      <td>33</td>\n",
       "      <td>Uttarakhand</td>\n",
       "      <td>4642</td>\n",
       "      <td>3212</td>\n",
       "      <td>55</td>\n",
       "    </tr>\n",
       "    <tr>\n",
       "      <th>33</th>\n",
       "      <td>34</td>\n",
       "      <td>Uttar Pradesh</td>\n",
       "      <td>51160</td>\n",
       "      <td>30831</td>\n",
       "      <td>1192</td>\n",
       "    </tr>\n",
       "    <tr>\n",
       "      <th>34</th>\n",
       "      <td>35</td>\n",
       "      <td>West Bengal</td>\n",
       "      <td>44769</td>\n",
       "      <td>26418</td>\n",
       "      <td>1147</td>\n",
       "    </tr>\n",
       "  </tbody>\n",
       "</table>\n",
       "</div>"
      ],
      "text/plain": [
       "    s.no                                     State  Total cases  \\\n",
       "0      1               Andaman and Nicobar Islands          207   \n",
       "1      2                            Andhra Pradesh        53724   \n",
       "2      3                         Arunachal Pradesh          790   \n",
       "3      4                                     Assam        25382   \n",
       "4      5                                     Bihar        27646   \n",
       "5      6                                Chandigarh          737   \n",
       "6      7                              Chhattisgarh         5561   \n",
       "7      8  Dadra and Nagar Haveli and Daman and Diu          684   \n",
       "8      9                                     Delhi       123747   \n",
       "9     10                                       Goa         3853   \n",
       "10    11                                   Gujarat        49353   \n",
       "11    12                                   Haryana        26858   \n",
       "12    13                          Himachal Pradesh         1631   \n",
       "13    14                         Jammu and Kashmir        14650   \n",
       "14    15                                 Jharkhand         5756   \n",
       "15    16                                 Karnataka        67420   \n",
       "16    17                                    Kerala        13274   \n",
       "17    18                                    Ladakh         1195   \n",
       "18    19                            Madhya Pradesh        23310   \n",
       "19    20                               Maharashtra       318695   \n",
       "20    21                                   Manipur         1925   \n",
       "21    22                                 Meghalaya          466   \n",
       "22    23                                   Mizoram          297   \n",
       "23    24                                  Nagaland         1021   \n",
       "24    25                                    Odisha        18110   \n",
       "25    26                                Puducherry         2092   \n",
       "26    27                                    Punjab        10510   \n",
       "27    28                                 Rajasthan        30390   \n",
       "28    29                                    Sikkim          305   \n",
       "29    30                                Tamil Nadu       175678   \n",
       "30    31                                 Telangana        46274   \n",
       "31    32                                   Tripura         3079   \n",
       "32    33                               Uttarakhand         4642   \n",
       "33    34                             Uttar Pradesh        51160   \n",
       "34    35                               West Bengal        44769   \n",
       "\n",
       "    Cured/discharged  Death   \n",
       "0                152       0  \n",
       "1              24228     696  \n",
       "2                285       3  \n",
       "3              17095      58  \n",
       "4              17433     217  \n",
       "5                518      12  \n",
       "6               3944      25  \n",
       "7                448       2  \n",
       "8             104918    3663  \n",
       "9               2361      23  \n",
       "10             35678    2162  \n",
       "11             20226     355  \n",
       "12              1067      11  \n",
       "13              8274     254  \n",
       "14              2810      53  \n",
       "15             23795    1403  \n",
       "16              5616      43  \n",
       "17              1007       2  \n",
       "18             15684     738  \n",
       "19            175029   12030  \n",
       "20              1307       0  \n",
       "21                66       4  \n",
       "22               168       0  \n",
       "23               484       0  \n",
       "24             12910      97  \n",
       "25              1265      29  \n",
       "26              7118     262  \n",
       "27             22195     568  \n",
       "28                92       0  \n",
       "29            121776    2551  \n",
       "30             34323     422  \n",
       "31              1845       7  \n",
       "32              3212      55  \n",
       "33             30831    1192  \n",
       "34             26418    1147  "
      ]
     },
     "execution_count": 51,
     "metadata": {},
     "output_type": "execute_result"
    }
   ],
   "source": [
    "df"
   ]
  },
  {
   "cell_type": "code",
   "execution_count": 65,
   "metadata": {},
   "outputs": [
    {
     "name": "stdout",
     "output_type": "stream",
     "text": [
      "population_mean is: 33005.45714285714\n",
      "sampling distribution mean is: 33117.610393333336\n"
     ]
    }
   ],
   "source": [
    "print(\"population_mean is:\",avg)\n",
    "sample_50 = []\n",
    "\n",
    "for i in range(5000):\n",
    "  \n",
    "    sample = np.random.choice(df['Total cases'], 30)\n",
    "    sample_50.append(sample.mean())\n",
    "print(\"sampling distribution mean is:\",mean(sample_50))"
   ]
  },
  {
   "cell_type": "code",
   "execution_count": 67,
   "metadata": {},
   "outputs": [
    {
     "data": {
      "text/plain": [
       "<matplotlib.axes._subplots.AxesSubplot at 0x7fcc52df9ba8>"
      ]
     },
     "execution_count": 67,
     "metadata": {},
     "output_type": "execute_result"
    },
    {
     "data": {
      "image/png": "[encoded data removed]",
      "text/plain": [
       "<Figure size 1008x576 with 1 Axes>"
      ]
     },
     "metadata": {},
     "output_type": "display_data"
    },
    {
     "data": {
      "image/png": "[encoded data removed]",
      "text/plain": [
       "<Figure size 1008x576 with 1 Axes>"
      ]
     },
     "metadata": {},
     "output_type": "display_data"
    }
   ],
   "source": [
    "plt.figure(figsize=(14,8))\n",
    "sns.distplot(df['Total cases'], kde=True)\n",
    "\n",
    "plt.figure(figsize=(14,8))\n",
    "sns.distplot(sample_50, kde=True)"
   ]
  },
  {
   "cell_type": "markdown",
   "metadata": {},
   "source": [
    "### Hypothesis testing"
   ]
  },
  {
   "cell_type": "code",
   "execution_count": 68,
   "metadata": {},
   "outputs": [
    {
     "data": {
      "text/html": [
       "<div>\n",
       "<style scoped>\n",
       "    .dataframe tbody tr th:only-of-type {\n",
       "        vertical-align: middle;\n",
       "    }\n",
       "\n",
       "    .dataframe tbody tr th {\n",
       "        vertical-align: top;\n",
       "    }\n",
       "\n",
       "    .dataframe thead th {\n",
       "        text-align: right;\n",
       "    }\n",
       "</style>\n",
       "<table border=\"1\" class=\"dataframe\">\n",
       "  <thead>\n",
       "    <tr style=\"text-align: right;\">\n",
       "      <th></th>\n",
       "      <th>s.no</th>\n",
       "      <th>State</th>\n",
       "      <th>Total cases</th>\n",
       "      <th>Cured/discharged</th>\n",
       "      <th>Death</th>\n",
       "    </tr>\n",
       "  </thead>\n",
       "  <tbody>\n",
       "    <tr>\n",
       "      <th>0</th>\n",
       "      <td>1</td>\n",
       "      <td>Andaman and Nicobar Islands</td>\n",
       "      <td>207</td>\n",
       "      <td>152</td>\n",
       "      <td>0</td>\n",
       "    </tr>\n",
       "    <tr>\n",
       "      <th>1</th>\n",
       "      <td>2</td>\n",
       "      <td>Andhra Pradesh</td>\n",
       "      <td>53724</td>\n",
       "      <td>24228</td>\n",
       "      <td>696</td>\n",
       "    </tr>\n",
       "    <tr>\n",
       "      <th>2</th>\n",
       "      <td>3</td>\n",
       "      <td>Arunachal Pradesh</td>\n",
       "      <td>790</td>\n",
       "      <td>285</td>\n",
       "      <td>3</td>\n",
       "    </tr>\n",
       "    <tr>\n",
       "      <th>3</th>\n",
       "      <td>4</td>\n",
       "      <td>Assam</td>\n",
       "      <td>25382</td>\n",
       "      <td>17095</td>\n",
       "      <td>58</td>\n",
       "    </tr>\n",
       "    <tr>\n",
       "      <th>4</th>\n",
       "      <td>5</td>\n",
       "      <td>Bihar</td>\n",
       "      <td>27646</td>\n",
       "      <td>17433</td>\n",
       "      <td>217</td>\n",
       "    </tr>\n",
       "  </tbody>\n",
       "</table>\n",
       "</div>"
      ],
      "text/plain": [
       "   s.no                        State  Total cases  Cured/discharged  Death \n",
       "0     1  Andaman and Nicobar Islands          207               152       0\n",
       "1     2               Andhra Pradesh        53724             24228     696\n",
       "2     3            Arunachal Pradesh          790               285       3\n",
       "3     4                        Assam        25382             17095      58\n",
       "4     5                        Bihar        27646             17433     217"
      ]
     },
     "execution_count": 68,
     "metadata": {},
     "output_type": "execute_result"
    }
   ],
   "source": [
    "df.head()"
   ]
  },
  {
   "cell_type": "code",
   "execution_count": 69,
   "metadata": {},
   "outputs": [
    {
     "name": "stdout",
     "output_type": "stream",
     "text": [
      "t-statistic and probability value are: 2.1943511913539817 0.03514067740850361\n",
      "reject null hypothesis\n"
     ]
    }
   ],
   "source": [
    "from scipy import stats\n",
    "results=stats.ttest_1samp(df['Total cases'],10000)\n",
    "print(\"t-statistic and probability value are:\",results[0],results[1])\n",
    "if results[1]<0.05:\n",
    "  print(\"reject null hypothesis\")\n",
    "else:\n",
    "  print(\"accept null hypothesis\")\n"
   ]
  },
  {
   "cell_type": "markdown",
   "metadata": {},
   "source": [
    "### Interval estimation "
   ]
  },
  {
   "cell_type": "markdown",
   "metadata": {},
   "source": [
    "df.head()\n"
   ]
  },
  {
   "cell_type": "code",
   "execution_count": 72,
   "metadata": {},
   "outputs": [
    {
     "name": "stdout",
     "output_type": "stream",
     "text": [
      "mean of total cases is: 33005.45714285714\n"
     ]
    }
   ],
   "source": [
    "Mean=df['Total cases'].mean()\n",
    "print(\"mean of total cases is:\",Mean)"
   ]
  },
  {
   "cell_type": "code",
   "execution_count": 77,
   "metadata": {},
   "outputs": [
    {
     "name": "stdout",
     "output_type": "stream",
     "text": [
      "sample_mean: 22414.84\n"
     ]
    }
   ],
   "source": [
    "sample=np.random.choice(df['Total cases'],50)\n",
    "sample_mean=sample.mean()\n",
    "print(\"sample_mean:\",sample_mean)"
   ]
  },
  {
   "cell_type": "markdown",
   "metadata": {},
   "source": [
    "#### Quantitative variable "
   ]
  },
  {
   "cell_type": "markdown",
   "metadata": {},
   "source": [
    "#### Known population Std_dev "
   ]
  },
  {
   "cell_type": "code",
   "execution_count": 76,
   "metadata": {},
   "outputs": [
    {
     "name": "stdout",
     "output_type": "stream",
     "text": [
      "confidence interval: 18911.085708006034 44041.47429199396\n"
     ]
    }
   ],
   "source": [
    "z_score=stats.norm.ppf(q=0.924)\n",
    "\n",
    "import math\n",
    "sample_size=50\n",
    "\n",
    "population_std=df['Total cases'].std()\n",
    "\n",
    "margin_of_error=z_score*(population_std/math.sqrt(sample_size))\n",
    "\n",
    "start_value=sample_mean-margin_of_error\n",
    "end_value=sample_mean+margin_of_error\n",
    "\n",
    "print(\"confidence interval:\",start_value,end_value)"
   ]
  },
  {
   "cell_type": "markdown",
   "metadata": {},
   "source": [
    "#### Unknown population Std_dev "
   ]
  },
  {
   "cell_type": "code",
   "execution_count": 78,
   "metadata": {},
   "outputs": [
    {
     "name": "stdout",
     "output_type": "stream",
     "text": [
      "confidence interval: 14508.88275991355 30320.797240086453\n"
     ]
    }
   ],
   "source": [
    "sample_size=50\n",
    "t_score=stats.t.ppf(q=0.924,df=sample_size-1)\n",
    "sample_std=sample.std()\n",
    "standard_error=sample_std/math.sqrt(sample_size)\n",
    "margin_of_error=t_score*standard_error\n",
    "start_value=sample_mean-margin_of_error\n",
    "end_value=sample_mean+margin_of_error\n",
    "print(\"confidence interval:\",start_value,end_value)"
   ]
  },
  {
   "cell_type": "markdown",
   "metadata": {},
   "source": [
    "### bootstrap distribution"
   ]
  },
  {
   "cell_type": "code",
   "execution_count": 91,
   "metadata": {},
   "outputs": [
    {
     "name": "stdout",
     "output_type": "stream",
     "text": [
      "population_mean is 20702.22857142857\n",
      "bootstrap distribution mean is: 20825.609564444443\n"
     ]
    }
   ],
   "source": [
    "sample_30=[]\n",
    "for i in range(2000):\n",
    "  \n",
    "    sample = np.random.choice(df['Cured/discharged'], 30)\n",
    "    sample_30.append(sample.mean())\n",
    "\n",
    "print(\"population_mean is\",df['Cured/discharged'].mean())\n",
    "bootstrap_sample=[]\n",
    "for i in range(2000):\n",
    "  \n",
    "    sample = np.random.choice(sample_30, 30,replace=True)\n",
    "    bootstrap_sample.append(sample.mean())\n",
    "print(\"bootstrap distribution mean is:\",mean(bootstrap_sample))"
   ]
  },
  {
   "cell_type": "code",
   "execution_count": 93,
   "metadata": {},
   "outputs": [
    {
     "data": {
      "text/plain": [
       "<matplotlib.axes._subplots.AxesSubplot at 0x7fcc55cbe080>"
      ]
     },
     "execution_count": 93,
     "metadata": {},
     "output_type": "execute_result"
    },
    {
     "data": {
      "image/png": "[encoded data removed]",
      "text/plain": [
       "<Figure size 1008x576 with 1 Axes>"
      ]
     },
     "metadata": {},
     "output_type": "display_data"
    },
    {
     "data": {
      "image/png": "[encoded data removed]",
      "text/plain": [
       "<Figure size 1008x576 with 1 Axes>"
      ]
     },
     "metadata": {},
     "output_type": "display_data"
    }
   ],
   "source": [
    "plt.figure(figsize=(14,8))\n",
    "sns.distplot(df['Cured/discharged'], kde=True)\n",
    "\n",
    "plt.figure(figsize=(14,8))\n",
    "sns.distplot(bootstrap_sample, kde=True)"
   ]
  },
  {
   "cell_type": "code",
   "execution_count": null,
   "metadata": {},
   "outputs": [],
   "source": []
  }
 ],
 "metadata": {
  "kernelspec": {
   "display_name": "Python 3",
   "language": "python",
   "name": "python3"
  },
  "language_info": {
   "codemirror_mode": {
    "name": "ipython",
    "version": 3
   },
   "file_extension": ".py",
   "mimetype": "text/x-python",
   "name": "python",
   "nbconvert_exporter": "python",
   "pygments_lexer": "ipython3",
   "version": "3.7.1"
  }
 },
 "nbformat": 4,
 "nbformat_minor": 2
}
